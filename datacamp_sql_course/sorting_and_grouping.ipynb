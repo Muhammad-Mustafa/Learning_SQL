{
 "cells": [
  {
   "cell_type": "code",
   "execution_count": null,
   "metadata": {
    "vscode": {
     "languageId": "sql"
    }
   },
   "outputs": [],
   "source": [
    "SELECT name\n",
    "FROM people\n",
    "ORDER by name"
   ]
  },
  {
   "cell_type": "code",
   "execution_count": null,
   "metadata": {
    "vscode": {
     "languageId": "sql"
    }
   },
   "outputs": [],
   "source": [
    "SELECT name, birthdate\n",
    "FROM people\n",
    "ORDER BY birthdate"
   ]
  },
  {
   "cell_type": "code",
   "execution_count": null,
   "metadata": {
    "vscode": {
     "languageId": "sql"
    }
   },
   "outputs": [],
   "source": [
    "SELECT title\n",
    "FROM films\n",
    "WHERE release_year IN (2000, 2012)\n",
    "ORDER BY release_year"
   ]
  },
  {
   "cell_type": "code",
   "execution_count": null,
   "metadata": {
    "vscode": {
     "languageId": "sql"
    }
   },
   "outputs": [],
   "source": [
    "SELECT * \n",
    "FROM films\n",
    "WHERE release_year != 2015\n",
    "order by duration"
   ]
  },
  {
   "cell_type": "code",
   "execution_count": null,
   "metadata": {
    "vscode": {
     "languageId": "sql"
    }
   },
   "outputs": [],
   "source": [
    "SELECT title, gross\n",
    "FROM films\n",
    "WHERE title LIKE 'M%'\n",
    "ORDER by title"
   ]
  },
  {
   "cell_type": "code",
   "execution_count": null,
   "metadata": {
    "vscode": {
     "languageId": "sql"
    }
   },
   "outputs": [],
   "source": [
    "SELECT imdb_score, film_id\n",
    "FROM reviews\n",
    "ORDER BY imdb_score DESC"
   ]
  },
  {
   "cell_type": "markdown",
   "metadata": {},
   "source": [
    "ORDER BY can also be used to sort on multiple columns. It will sort by the first column specified, then sort by the next, then the next, and so on. For example,\n",
    "```sql\n",
    "SELECT birthdate, name\n",
    "FROM people\n",
    "ORDER BY birthdate, name;\n",
    "```\n",
    "\n",
    "sorts on birth dates first (oldest to newest) and then sorts on the names in alphabetical order. The order of columns is important!\n",
    "\n",
    "Try using ORDER BY to sort multiple columns! Remember, to specify multiple columns you separate the column names with a comma."
   ]
  },
  {
   "cell_type": "code",
   "execution_count": null,
   "metadata": {
    "vscode": {
     "languageId": "sql"
    }
   },
   "outputs": [],
   "source": [
    "SELECT birthdate, name\n",
    "FROM people\n",
    "ORDER BY birthdate, name"
   ]
  },
  {
   "cell_type": "code",
   "execution_count": null,
   "metadata": {
    "vscode": {
     "languageId": "sql"
    }
   },
   "outputs": [],
   "source": [
    "SELECT certification, release_year, title\n",
    "from films\n",
    "order by certification, release_year"
   ]
  },
  {
   "cell_type": "markdown",
   "metadata": {},
   "source": [
    "### GROUP BY\n",
    "Now you know how to sort results! Often you'll need to aggregate results. \n",
    "\n",
    "For example, you might want to count the number of male and female employees in your company. \n",
    "\n",
    "Here, what you want is to group all the males together and count them, and group all the females together and count them. \n",
    "\n",
    "In SQL, GROUP BY allows you to group a result by one or more columns, like so:\n",
    "```sql\n",
    "SELECT sex, count(*)\n",
    "FROM employees\n",
    "GROUP BY sex;\n",
    "```"
   ]
  },
  {
   "cell_type": "code",
   "execution_count": null,
   "metadata": {
    "vscode": {
     "languageId": "sql"
    }
   },
   "outputs": [],
   "source": [
    "SELECT release_year, COUNT(*)\n",
    "from films\n",
    "group by release_year"
   ]
  },
  {
   "cell_type": "code",
   "execution_count": null,
   "metadata": {
    "vscode": {
     "languageId": "sql"
    }
   },
   "outputs": [],
   "source": [
    "SELECT imdb_score, Count(num_votes)\n",
    "from reviews\n",
    "group by imdb_score"
   ]
  },
  {
   "cell_type": "code",
   "execution_count": null,
   "metadata": {
    "vscode": {
     "languageId": "sql"
    }
   },
   "outputs": [],
   "source": [
    "SELECT release_year, MIN(gross)\n",
    "FROM films\n",
    "GROUP BY release_year"
   ]
  },
  {
   "cell_type": "code",
   "execution_count": null,
   "metadata": {
    "vscode": {
     "languageId": "sql"
    }
   },
   "outputs": [],
   "source": [
    "SELECT language, SUM(gross)\n",
    "FROM films\n",
    "GROUP BY language"
   ]
  },
  {
   "cell_type": "code",
   "execution_count": null,
   "metadata": {
    "vscode": {
     "languageId": "sql"
    }
   },
   "outputs": [],
   "source": [
    "SELECT country, SUM(budget)\n",
    "FROM films\n",
    "GROUP BY country"
   ]
  },
  {
   "cell_type": "code",
   "execution_count": null,
   "metadata": {
    "vscode": {
     "languageId": "sql"
    }
   },
   "outputs": [],
   "source": [
    "SELECT release_year, country, MAX(budget)\n",
    "FROM films\n",
    "GROUP BY release_year, country\n",
    "ORDER BY release_year, country"
   ]
  },
  {
   "cell_type": "code",
   "execution_count": null,
   "metadata": {
    "vscode": {
     "languageId": "sql"
    }
   },
   "outputs": [],
   "source": [
    "SELECT release_year, AVG(budget) AS avg_budget, AVG(gross) AS avg_gross\n",
    "FROM films\n",
    "WHERE release_year > 1990\n",
    "GROUP BY release_year\n",
    "HAVING AVG(budget) > 60000000\n",
    "ORDER BY avg_gross DESC"
   ]
  },
  {
   "cell_type": "code",
   "execution_count": null,
   "metadata": {
    "vscode": {
     "languageId": "sql"
    }
   },
   "outputs": [],
   "source": [
    "SELECT country, AVG(budget) as avg_budget, AVG(gross) as avg_gross\n",
    "FROM films\n",
    "GROUP BY country\n",
    "HAVING COUNT(*) > 10\n",
    "ORDER BY country\n",
    "LIMIT 5"
   ]
  }
 ],
 "metadata": {
  "kernelspec": {
   "display_name": "Python 3.10.6 64-bit (windows store)",
   "language": "python",
   "name": "python3"
  },
  "language_info": {
   "name": "python",
   "version": "3.10.6"
  },
  "orig_nbformat": 4,
  "vscode": {
   "interpreter": {
    "hash": "c7a279df56688506272803efb37954aa1b99335a35b16dee08a4fb625759cd2b"
   }
  }
 },
 "nbformat": 4,
 "nbformat_minor": 2
}
